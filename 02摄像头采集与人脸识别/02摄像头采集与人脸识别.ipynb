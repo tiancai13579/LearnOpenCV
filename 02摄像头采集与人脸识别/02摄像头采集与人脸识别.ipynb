{
 "cells": [
  {
   "cell_type": "code",
   "execution_count": 1,
   "metadata": {},
   "outputs": [],
   "source": [
    "import cv2\n",
    "cap = cv2.VideoCapture(0)#获取0号摄像头\n",
    "while(1):\n",
    "    ret, frame = cap.read()#读取一帧\n",
    "    cv2.imshow(\"capture\", frame)#显示一帧\n",
    "    key = cv2.waitKey(1)\n",
    "    if key == ord('q'):#按下q键关闭摄像头\n",
    "        break\n",
    "cap.release()\n",
    "cv2.destroyAllWindows()#这个让它自动释放吧，手动点击×会发生崩溃"
   ]
  },
  {
   "cell_type": "markdown",
   "metadata": {},
   "source": [
    "显示效果还是很棒的！\n",
    "![image](截图1.jpg)"
   ]
  }
 ],
 "metadata": {
  "anaconda-cloud": {},
  "kernelspec": {
   "display_name": "Python [default]",
   "language": "python",
   "name": "python3"
  },
  "language_info": {
   "codemirror_mode": {
    "name": "ipython",
    "version": 3
   },
   "file_extension": ".py",
   "mimetype": "text/x-python",
   "name": "python",
   "nbconvert_exporter": "python",
   "pygments_lexer": "ipython3",
   "version": "3.5.2"
  }
 },
 "nbformat": 4,
 "nbformat_minor": 1
}
