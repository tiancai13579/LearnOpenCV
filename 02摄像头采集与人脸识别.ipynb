{
 "cells": [
  {
   "cell_type": "code",
   "execution_count": 1,
   "metadata": {
    "collapsed": true
   },
   "outputs": [],
   "source": [
    "import cv2"
   ]
  },
  {
   "cell_type": "code",
   "execution_count": 7,
   "metadata": {},
   "outputs": [],
   "source": [
    "cap = cv2.VideoCapture(0)#获取0号摄像头\n",
    "while True:\n",
    "    ret, frame = cap.read()#读取一帧\n",
    "    cv2.imshow(\"capture\", frame)#显示一帧\n",
    "    key = cv2.waitKey(1)\n",
    "    if key == ord('q'):#按下q键关闭摄像头\n",
    "        break\n",
    "cap.release()\n",
    "cv2.destroyAllWindows()#这个让它自动释放吧，手动点击×会发生崩溃"
   ]
  },
  {
   "cell_type": "markdown",
   "metadata": {},
   "source": [
    "显示效果还是很棒的！\n",
    "![image](摄像头截图1.jpg)"
   ]
  },
  {
   "cell_type": "markdown",
   "metadata": {},
   "source": [
    "## 接下来是摄像头的人脸识别啦！"
   ]
  },
  {
   "cell_type": "code",
   "execution_count": 31,
   "metadata": {
    "collapsed": true
   },
   "outputs": [],
   "source": [
    "def faceDetect(inputImg):\n",
    "    img = inputImg.copy()#拷贝图像\n",
    "    face_cascade = cv2.CascadeClassifier('haarcascade_frontalface_default.xml')#人脸分离器\n",
    "    gray = cv2.cvtColor(img, cv2.COLOR_BGR2GRAY)\n",
    "    faces = face_cascade.detectMultiScale(gray, 1.2, 5)#1.3是scale\n",
    "    for (x,y,w,h) in faces:\n",
    "        img = cv2.rectangle(img,(x,y),(x+w,y+h),(255,0,0),2)#两个坐标分别是左上角和右下角\n",
    "    return [img,faces]"
   ]
  },
  {
   "cell_type": "code",
   "execution_count": 34,
   "metadata": {
    "scrolled": true
   },
   "outputs": [],
   "source": [
    "cap = cv2.VideoCapture(0)#获取0号摄像头\n",
    "cap.set(cv2.CAP_PROP_FPS,10)#把帧数设置低一点\n",
    "while True:\n",
    "    ret, frame = cap.read()#读取一帧\n",
    "    [imgDetected,faces] = faceDetect(frame)\n",
    "    cv2.imshow(\"capture\", imgDetected)#显示一帧\n",
    "    #for face in faces:\n",
    "        #print(face)\n",
    "    key = cv2.waitKey(1)\n",
    "    if key == ord('q'):#按下q键关闭摄像头\n",
    "        break\n",
    "cap.release()\n",
    "cv2.destroyAllWindows()#这个让它自动释放吧，手动点击×会发生崩溃"
   ]
  },
  {
   "cell_type": "markdown",
   "metadata": {},
   "source": [
    "虽然检测效果有待提高，不过还是挺棒棒哒~！  \n",
    "![image](./摄像头人脸识别截图1.jpg)"
   ]
  },
  {
   "cell_type": "code",
   "execution_count": 24,
   "metadata": {
    "collapsed": true
   },
   "outputs": [],
   "source": [
    "cap.release()\n",
    "cv2.destroyAllWindows()"
   ]
  },
  {
   "cell_type": "code",
   "execution_count": null,
   "metadata": {
    "collapsed": true
   },
   "outputs": [],
   "source": []
  }
 ],
 "metadata": {
  "anaconda-cloud": {},
  "kernelspec": {
   "display_name": "Python [default]",
   "language": "python",
   "name": "python3"
  },
  "language_info": {
   "codemirror_mode": {
    "name": "ipython",
    "version": 3
   },
   "file_extension": ".py",
   "mimetype": "text/x-python",
   "name": "python",
   "nbconvert_exporter": "python",
   "pygments_lexer": "ipython3",
   "version": "3.5.2"
  }
 },
 "nbformat": 4,
 "nbformat_minor": 1
}
