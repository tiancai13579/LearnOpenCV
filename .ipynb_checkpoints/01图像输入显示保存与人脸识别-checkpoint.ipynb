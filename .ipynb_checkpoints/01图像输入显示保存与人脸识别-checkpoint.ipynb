{
 "cells": [
  {
   "cell_type": "code",
   "execution_count": 1,
   "metadata": {
    "collapsed": true
   },
   "outputs": [],
   "source": [
    "import cv2"
   ]
  },
  {
   "cell_type": "code",
   "execution_count": 11,
   "metadata": {},
   "outputs": [
    {
     "data": {
      "text/plain": [
       "255"
      ]
     },
     "execution_count": 11,
     "metadata": {},
     "output_type": "execute_result"
    }
   ],
   "source": [
    "img = cv2.imread('./lena.tif')#读取图片\n",
    "cv2.namedWindow('Image')\n",
    "cv2.imshow('Image',img)#显示图片\n",
    "cv2.waitKey(0)#阻塞等待"
   ]
  },
  {
   "cell_type": "markdown",
   "metadata": {
    "collapsed": true
   },
   "source": [
    "\n",
    "这里一定要有cv2.waitKey(0)，否则会死掉，但是在某些ide中，比如spyder，可以没有\n",
    "显示的就是这幅照片\n",
    "![image](./lena.jpg)"
   ]
  },
  {
   "cell_type": "code",
   "execution_count": 13,
   "metadata": {
    "collapsed": true
   },
   "outputs": [],
   "source": [
    "for quality in [5,10,30]:\n",
    "    cv2.imwrite('lena_quality{}.jpg'.format(quality),img,[cv2.IMWRITE_JPEG_QUALITY, quality])"
   ]
  },
  {
   "cell_type": "markdown",
   "metadata": {},
   "source": [
    "输出，用imwrite，jpg文件可以选择画质，0最差，100最好，分别是：  \n",
    "<div>\n",
    " <img src=\"./lena_quality5.jpg\" width = \"200\" height = \"200\" align=left />\n",
    " <img src=\"./lena_quality10.jpg\" width = \"200\" height = \"200\" align=left />\n",
    " <img src=\"./lena_quality30.jpg\" width = \"200\" height = \"200\" align=left />  \n",
    "<div/>  \n",
    "\n",
    "可以看出，30以后其实和原图没有太大差别了"
   ]
  },
  {
   "cell_type": "code",
   "execution_count": 13,
   "metadata": {},
   "outputs": [
    {
     "data": {
      "text/plain": [
       "255"
      ]
     },
     "execution_count": 13,
     "metadata": {},
     "output_type": "execute_result"
    }
   ],
   "source": [
    "def faceDetect(inputImg):\n",
    "    img = inputImg.copy()#拷贝图像\n",
    "    face_cascade = cv2.CascadeClassifier('haarcascade_frontalface_default.xml')#人脸分离器\n",
    "    gray = cv2.cvtColor(img, cv2.COLOR_BGR2GRAY)\n",
    "    faces = face_cascade.detectMultiScale(gray, 1.3, 5)#1.3是scale\n",
    "    for (x,y,w,h) in faces:\n",
    "        img = cv2.rectangle(img,(x,y),(x+w,y+h),(255,0,0),2)#两个坐标分别是左上角和右下角\n",
    "    return [img,faces]\n",
    "\n",
    "[imgDetected,faces] = faceDetect(img)\n",
    "cv2.imshow('Face Detected!!', imgDetected)\n",
    "cv2.waitKey(0)"
   ]
  },
  {
   "cell_type": "markdown",
   "metadata": {},
   "source": [
    "人脸识别效果杠杠滴~  \n",
    "![image](./图片人脸识别截图1.jpg)"
   ]
  },
  {
   "cell_type": "code",
   "execution_count": null,
   "metadata": {
    "collapsed": true
   },
   "outputs": [],
   "source": []
  }
 ],
 "metadata": {
  "anaconda-cloud": {},
  "kernelspec": {
   "display_name": "Python [default]",
   "language": "python",
   "name": "python3"
  },
  "language_info": {
   "codemirror_mode": {
    "name": "ipython",
    "version": 3
   },
   "file_extension": ".py",
   "mimetype": "text/x-python",
   "name": "python",
   "nbconvert_exporter": "python",
   "pygments_lexer": "ipython3",
   "version": "3.5.2"
  }
 },
 "nbformat": 4,
 "nbformat_minor": 1
}
