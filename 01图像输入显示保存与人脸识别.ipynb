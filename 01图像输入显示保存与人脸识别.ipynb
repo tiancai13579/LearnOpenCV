{
 "cells": [
  {
   "cell_type": "code",
   "execution_count": 1,
   "metadata": {},
   "outputs": [
    {
     "data": {
      "text/plain": [
       "255"
      ]
     },
     "execution_count": 1,
     "metadata": {},
     "output_type": "execute_result"
    }
   ],
   "source": [
    "import cv2\n",
    "\n",
    "img = cv2.imread('../lena.tif')#读取图片\n",
    "cv2.namedWindow('Image')\n",
    "cv2.imshow('Image',img)#显示图片\n",
    "cv2.waitKey(0)#阻塞等待"
   ]
  },
  {
   "cell_type": "markdown",
   "metadata": {
    "collapsed": true
   },
   "source": [
    "\n",
    "这里一定要有cv2.waitKey(0)，否则会死掉，但是在某些ide中，比如spyder，可以没有\n",
    "显示的就是这幅照片\n",
    "![image](./lena.jpg)"
   ]
  },
  {
   "cell_type": "code",
   "execution_count": 13,
   "metadata": {
    "collapsed": true
   },
   "outputs": [],
   "source": [
    "for quality in [5,10,30]:\n",
    "    cv2.imwrite('lena_quality{}.jpg'.format(quality),img,[cv2.IMWRITE_JPEG_QUALITY, quality])"
   ]
  },
  {
   "cell_type": "markdown",
   "metadata": {},
   "source": [
    "输出，用imwrite，jpg文件可以选择画质，0最差，100最好，分别是：\n",
    "![image](./lena_quality5.jpg)\n",
    "![image](./lena_quality10.jpg)\n",
    "![image](./lena_quality30.jpg)\n",
    "可以看出，30以后其实和原图没有太大差别了"
   ]
  },
  {
   "cell_type": "code",
   "execution_count": null,
   "metadata": {
    "collapsed": true
   },
   "outputs": [],
   "source": [
    "face_cascade = cv2.CascadeClassifier('haarcascade_frontalface_default.xml')#人脸分离器\n",
    "gray = cv2.cvtColor(img, cv2.COLOR_BGR2GRAY)\n",
    "faces = face_cascade.detectMultiScale(gray, 1.3, 5)\n",
    "for (x,y,w,h) in faces:\n",
    "    img = cv2.rectangle(img,(x,y),(x+w,y+h),(255,0,0),2)\n",
    "cv2.imshow('Face Detected!!', img)\n",
    "cv2.waitKey(0)"
   ]
  }
 ],
 "metadata": {
  "anaconda-cloud": {},
  "kernelspec": {
   "display_name": "Python [default]",
   "language": "python",
   "name": "python3"
  },
  "language_info": {
   "codemirror_mode": {
    "name": "ipython",
    "version": 3
   },
   "file_extension": ".py",
   "mimetype": "text/x-python",
   "name": "python",
   "nbconvert_exporter": "python",
   "pygments_lexer": "ipython3",
   "version": "3.5.2"
  }
 },
 "nbformat": 4,
 "nbformat_minor": 1
}
